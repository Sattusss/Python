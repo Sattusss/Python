{
 "cells": [
  {
   "cell_type": "markdown",
   "metadata": {},
   "source": [
    "# Data Science"
   ]
  },
  {
   "cell_type": "code",
   "execution_count": 1,
   "metadata": {},
   "outputs": [],
   "source": [
    "from dputils import scrape as sc"
   ]
  },
  {
   "cell_type": "code",
   "execution_count": 6,
   "metadata": {},
   "outputs": [],
   "source": [
    "url = 'https://www.amazon.in/s?k=oneplus&sprefix=oneplus%2Caps%2C1262&ref=nb_sb_ss_pltr-ranker-retrain-acsession-acceptance_1_7'\n",
    "soup = sc.get_webpage_data(url)"
   ]
  },
  {
   "cell_type": "code",
   "execution_count": 8,
   "metadata": {},
   "outputs": [
    {
     "data": {
      "text/plain": [
       "<title>Amazon.in : oneplus</title>"
      ]
     },
     "execution_count": 8,
     "metadata": {},
     "output_type": "execute_result"
    }
   ],
   "source": [
    "soup.find('title') # everything is working"
   ]
  },
  {
   "cell_type": "code",
   "execution_count": 9,
   "metadata": {},
   "outputs": [],
   "source": [
    "target = {\n",
    "    'tag': 'div',\n",
    "    'attrs': {\n",
    "        's-main-slot s-result-list s-search-results sg-row'\n",
    "    }\n",
    "}"
   ]
  },
  {
   "cell_type": "code",
   "execution_count": 21,
   "metadata": {},
   "outputs": [],
   "source": [
    "items = {\n",
    "    'tag':'div',\n",
    "    'attrs':{\n",
    "        's-result-item'\n",
    "    }\n",
    "}\n",
    "\n",
    "title = {\n",
    "    'tag':'h2',\n",
    "    'attrs':{\n",
    "        'class':'a-size-mini a-spacing-none a-color-base s-line-clamp-2'\n",
    "    }\n",
    "}\n",
    "\n",
    "price = {\n",
    "    'tag':'span',\n",
    "    'attrs':{\n",
    "        'class':'a-price-whole'\n",
    "    }\n",
    "}\n",
    "\n"
   ]
  },
  {
   "cell_type": "code",
   "execution_count": 22,
   "metadata": {},
   "outputs": [
    {
     "name": "stdout",
     "output_type": "stream",
     "text": [
      "35 items found\n",
      "Item skipped at index: 0\n",
      "Item skipped at index: 1\n",
      "Item skipped at index: 7\n",
      "Item skipped at index: 8\n",
      "Item skipped at index: 9\n",
      "Item skipped at index: 10\n",
      "Item skipped at index: 11\n",
      "Item skipped at index: 12\n",
      "Item skipped at index: 28\n",
      "Item skipped at index: 31\n",
      "Item skipped at index: 32\n",
      "Item skipped at index: 33\n",
      "Item skipped at index: 34\n",
      "All items extracted\n"
     ]
    }
   ],
   "source": [
    "output = sc.extract_many(soup,target=target,items=items,title=title,price=price)"
   ]
  },
  {
   "cell_type": "code",
   "execution_count": 23,
   "metadata": {},
   "outputs": [
    {
     "name": "stdout",
     "output_type": "stream",
     "text": [
      "[{'price': '39,990',\n",
      "  'title': 'Samsung Galaxy S20 FE 5G (Cloud Navy, 8GB RAM, 128GB Storage) with '\n",
      "           'No Cost EMI & Additional Exchange Offers'},\n",
      " {'price': '35,999',\n",
      "  'title': 'Xiaomi 11T Pro 5G Hyperphone(Celestial Magic,8GB RAM,128GB '\n",
      "           'Storage)|SD 888|120W HyperCharge|6 Months Free Screen Replacement '\n",
      "           'for Prime|Additional Exchange Offer|Get 3 Months of YouTube '\n",
      "           'Premium Free!'},\n",
      " {'price': '24,999',\n",
      "  'title': 'OnePlus Nord CE 2 5G (Bahamas Blue, 8GB RAM, 128GB Storage)'},\n",
      " {'price': '18,999',\n",
      "  'title': 'OnePlus Nord CE 2 Lite 5G (Black Dusk, 6GB RAM, 128GB Storage)'},\n",
      " {'price': '18,999',\n",
      "  'title': 'OnePlus Nord CE 2 Lite 5G (Blue Tide, 6GB RAM, 128GB Storage)'},\n",
      " {'price': '24,999',\n",
      "  'title': 'OnePlus Nord CE 2 5G (Gray Mirror, 8GB RAM, 128GB Storage)'},\n",
      " {'price': '49,999',\n",
      "  'title': 'OnePlus 10T 5G (Jade Green, 8GB RAM, 128GB Storage)'},\n",
      " {'price': '34,999',\n",
      "  'title': 'OnePlus 10R 5G (Sierra Black, 8GB RAM, 128GB Storage, 80W '\n",
      "           'SuperVOOC)'},\n",
      " {'price': '1,799',\n",
      "  'title': 'Oneplus Bullets Bluetooth Wireless in Ear Z2 Earphones with Mic, '\n",
      "           'Bombastic Bass, 12.4 Mm Drivers, 10 Mins Charge, 20 Hrs Music, 30 '\n",
      "           'Hrs Battery Life, Launched in April 2022 (Beam Blue)'},\n",
      " {'price': '28,998',\n",
      "  'title': 'OnePlus Nord 2T 5G (Jade Fog, 8GB RAM, 128GB Storage) - Extra INR '\n",
      "           '3000 Exchange on Android Devices'},\n",
      " {'price': '25,999',\n",
      "  'title': 'Redmi K50i 5G (Phantom Blue, 6GB RAM, 128GB Storage) | Flagship '\n",
      "           'Mediatek Dimensity 8100 Processor | 144Hz Liquid FFS Display | '\n",
      "           'Alexa Built-in'},\n",
      " {'price': '25,999',\n",
      "  'title': 'Xiaomi 11 Lite NE 5G (Jazz Blue 8GB RAM 128 GB Storage) | Slimmest '\n",
      "           '(6.81mm) & Lightest (158g) 5G Smartphone | 10-bit AMOLED with '\n",
      "           'Dolby Vision | Additional Exchange Offers Available'},\n",
      " {'price': '2,599',\n",
      "  'title': 'OnePlus Nord Buds |True Wireless Earbuds| 12.4mm Titanium Drivers '\n",
      "           '| Playback:Up to 30hr case | 4-Mic Design + AI Noise Cancellation| '\n",
      "           'IP55 Rating |Fast Charging: 10min for 5hr Playback (Black '\n",
      "           'Slate)||'},\n",
      " {'price': '1,799',\n",
      "  'title': 'Oneplus Bullets Z2 Bluetooth Wireless in Ear Earphones with Mic, '\n",
      "           'Bombastic Bass - 12.4 Mm Drivers, 10 Mins Charge - 20 Hrs Music, '\n",
      "           '30 Hrs Battery Life, Launched in April 2022 (Magico Black)'},\n",
      " {'price': '28,998',\n",
      "  'title': 'OnePlus Nord 2T 5G (Gray Shadow, 8GB RAM, 128GB Storage) - Extra '\n",
      "           'INR 3000 Exchange on Android Devices'},\n",
      " {'price': '1,799',\n",
      "  'title': 'OnePlus Bullets Z2 Bluetooth Wireless in Ear Earphones with Mic, '\n",
      "           'Bombastic Bass - 12.4 mm Drivers, 10 Mins Charge - 20 Hrs Music, '\n",
      "           '30 Hrs Battery Life, IP55 Dust and Water Resistant (Acoustic Red)'},\n",
      " {'price': '2,599',\n",
      "  'title': 'OnePlus Nord Buds |True Wireless Earbuds| 12.4mm Titanium Drivers '\n",
      "           '| Playback:Up to 30hr case | 4-Mic Design + AI Noise Cancellation| '\n",
      "           'IP55 Rating |Fast Charging: 10min for 5hr Playback (Blue Agate) '\n",
      "           '||'},\n",
      " {'price': '66,999',\n",
      "  'title': 'OnePlus 10 Pro 5G (Emerald Forest, 12GB RAM, 256GB Storage)'},\n",
      " {'price': '4,799',\n",
      "  'title': 'Oneplus Buds Z2 Obsidian Black Bluetooth Truly Wireless in Ear '\n",
      "           'Earbuds with Mic Active Noise Cancellation'},\n",
      " {'price': '54,999',\n",
      "  'title': 'OnePlus 10T 5G (Moonstone Black, 12GB RAM, 256GB Storage)'},\n",
      " {'price': '49,999',\n",
      "  'title': 'Samsung Galaxy S21 FE 5G (Graphite, 8GB, 128GB Storage)'},\n",
      " {'price': '22,999',\n",
      "  'title': 'Redmi Note 11 Pro + 5G (Stealth Black, 8GB RAM, 128GB Storage) | '\n",
      "           '67W Turbo Charge | 120Hz Super AMOLED Display | Additional '\n",
      "           'Exchange Offers | Charger Included| Get 2 Months of YouTube '\n",
      "           'Premium Free!'}]\n"
     ]
    }
   ],
   "source": [
    "from pprint import pprint\n",
    "pprint(output)"
   ]
  },
  {
   "cell_type": "code",
   "execution_count": null,
   "metadata": {},
   "outputs": [],
   "source": []
  }
 ],
 "metadata": {
  "kernelspec": {
   "display_name": "Python 3.9.12 ('base')",
   "language": "python",
   "name": "python3"
  },
  "language_info": {
   "codemirror_mode": {
    "name": "ipython",
    "version": 3
   },
   "file_extension": ".py",
   "mimetype": "text/x-python",
   "name": "python",
   "nbconvert_exporter": "python",
   "pygments_lexer": "ipython3",
   "version": "3.9.12"
  },
  "orig_nbformat": 4,
  "vscode": {
   "interpreter": {
    "hash": "aa9439d03a0b432bdf3a2d4d3a01fff2171e3a638e45b73abd0705c8465a4158"
   }
  }
 },
 "nbformat": 4,
 "nbformat_minor": 2
}
