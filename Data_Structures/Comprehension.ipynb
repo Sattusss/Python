{
 "cells": [
  {
   "cell_type": "code",
   "execution_count": 1,
   "metadata": {},
   "outputs": [
    {
     "name": "stdout",
     "output_type": "stream",
     "text": [
      "[29, 56, 86, 45, 55]\n",
      "[24389, 175616, 636056, 91125, 166375]\n"
     ]
    }
   ],
   "source": [
    "x = [29,56,86,45,55]\n",
    "x2 = []\n",
    "for i in x:\n",
    "    cube = i**3\n",
    "    x2.append(cube)\n",
    "print(x)\n",
    "print(x2)"
   ]
  },
  {
   "cell_type": "markdown",
   "metadata": {},
   "source": [
    "## OR"
   ]
  },
  {
   "cell_type": "code",
   "execution_count": 2,
   "metadata": {},
   "outputs": [
    {
     "name": "stdout",
     "output_type": "stream",
     "text": [
      "[29, 56, 86, 45, 55]\n",
      "[24389, 175616, 636056, 91125, 166375]\n"
     ]
    }
   ],
   "source": [
    "x3 = [i**3 for i in x] # This is called Comprehension\n",
    "print(x)\n",
    "print(x3)"
   ]
  },
  {
   "cell_type": "markdown",
   "metadata": {},
   "source": [
    "**Syntax**\n",
    " - newlist = [Operation loop condition] \n",
    " - The use of comprehension,  when you want to create a list from existing list"
   ]
  },
  {
   "cell_type": "code",
   "execution_count": 5,
   "metadata": {},
   "outputs": [
    {
     "name": "stdout",
     "output_type": "stream",
     "text": [
      "[2, 8, 6, 2, 10]\n"
     ]
    }
   ],
   "source": [
    "a =[2,5,8,1,6,2,5,10]\n",
    "even_a = [i for i in a if i%2==0]\n",
    "print(even_a)"
   ]
  },
  {
   "cell_type": "code",
   "execution_count": 6,
   "metadata": {},
   "outputs": [
    {
     "name": "stdout",
     "output_type": "stream",
     "text": [
      "['AS', 'ST', 'SM']\n"
     ]
    }
   ],
   "source": [
    "names =['Aparna Sharma','Satyam Tiwari','Srishti Mishra']\n",
    "initial_names = [f'{n.split()[0][0]}{n.split()[-1][0]}' for n in names]\n",
    "print(initial_names)"
   ]
  },
  {
   "cell_type": "code",
   "execution_count": 11,
   "metadata": {},
   "outputs": [
    {
     "name": "stdout",
     "output_type": "stream",
     "text": [
      "{135, 42, 43, 45, 85, 1141, 151, 56, 89, 61, 63} {175616, 226981, 3442951, 74088, 704969, 614125, 1485446221, 79507, 91125, 2460375, 250047}\n"
     ]
    }
   ],
   "source": [
    "xp = {56,89,89,85,45,42,61,63,151,1141,43,135,43,43}\n",
    "x4 = {i**3 for i in xp} \n",
    "print(xp,x4)\n"
   ]
  },
  {
   "cell_type": "code",
   "execution_count": 14,
   "metadata": {},
   "outputs": [],
   "source": [
    "# Normalization\n",
    "rainfall = {\n",
    "    '2001' :150,\n",
    "    '2002' :420,\n",
    "    '2003' :510,\n",
    "    '2004' :640,\n",
    "    '2005' :700\n",
    "}"
   ]
  },
  {
   "cell_type": "code",
   "execution_count": 15,
   "metadata": {},
   "outputs": [],
   "source": [
    "rainfall_norm = {i[0]:i[1]/700 for i in rainfall.items()}"
   ]
  },
  {
   "cell_type": "code",
   "execution_count": null,
   "metadata": {},
   "outputs": [],
   "source": []
  }
 ],
 "metadata": {
  "kernelspec": {
   "display_name": "Python 3.9.12 ('base')",
   "language": "python",
   "name": "python3"
  },
  "language_info": {
   "codemirror_mode": {
    "name": "ipython",
    "version": 3
   },
   "file_extension": ".py",
   "mimetype": "text/x-python",
   "name": "python",
   "nbconvert_exporter": "python",
   "pygments_lexer": "ipython3",
   "version": "3.9.12"
  },
  "orig_nbformat": 4,
  "vscode": {
   "interpreter": {
    "hash": "aa9439d03a0b432bdf3a2d4d3a01fff2171e3a638e45b73abd0705c8465a4158"
   }
  }
 },
 "nbformat": 4,
 "nbformat_minor": 2
}
