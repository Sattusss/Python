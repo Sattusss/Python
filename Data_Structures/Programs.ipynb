{
 "cells": [
  {
   "cell_type": "markdown",
   "metadata": {},
   "source": [
    "## Program using  ljust()"
   ]
  },
  {
   "cell_type": "code",
   "execution_count": 4,
   "metadata": {},
   "outputs": [
    {
     "name": "stdout",
     "output_type": "stream",
     "text": [
      "Ajay---------------- 4\n",
      "Satyam-------------- 6\n",
      "Jai----------------- 3\n",
      "Ram----------------- 3\n"
     ]
    }
   ],
   "source": [
    "word = ['Ajay', 'Satyam', 'Jai', 'Ram']\n",
    "for words in word:\n",
    "    print(words.ljust(20,'-'), len(words))"
   ]
  },
  {
   "cell_type": "markdown",
   "metadata": {},
   "source": [
    "## Program using  rjust()"
   ]
  },
  {
   "cell_type": "code",
   "execution_count": 6,
   "metadata": {},
   "outputs": [
    {
     "name": "stdout",
     "output_type": "stream",
     "text": [
      "                Ajay 4\n",
      "              Satyam 6\n",
      "                 Jai 3\n",
      "                 Ram 3\n"
     ]
    }
   ],
   "source": [
    "word = ['Ajay', 'Satyam', 'Jai', 'Ram']\n",
    "for words in word:\n",
    "    print(words.rjust(20), len(words))"
   ]
  },
  {
   "cell_type": "markdown",
   "metadata": {},
   "source": [
    "## Program using  center()"
   ]
  },
  {
   "cell_type": "code",
   "execution_count": 7,
   "metadata": {},
   "outputs": [
    {
     "name": "stdout",
     "output_type": "stream",
     "text": [
      "        Ajay         4\n",
      "       Satyam        6\n",
      "        Jai          3\n",
      "        Ram          3\n"
     ]
    }
   ],
   "source": [
    "word = ['Ajay', 'Satyam', 'Jai', 'Ram']\n",
    "for words in word:\n",
    "    print(words.center(20), len(words))"
   ]
  },
  {
   "cell_type": "markdown",
   "metadata": {},
   "source": [
    "## Validate the string is numeric or not"
   ]
  },
  {
   "cell_type": "code",
   "execution_count": 12,
   "metadata": {},
   "outputs": [
    {
     "name": "stdout",
     "output_type": "stream",
     "text": [
      "Yeah, it is a numeric value\n"
     ]
    }
   ],
   "source": [
    "a  = input('Enter a number')\n",
    "if a.isnumeric():\n",
    "    print(\"Yeah, it is a numeric value\")\n",
    "else:\n",
    "    print(\"Oops, Try again\")"
   ]
  },
  {
   "cell_type": "code",
   "execution_count": 9,
   "metadata": {},
   "outputs": [
    {
     "name": "stdout",
     "output_type": "stream",
     "text": [
      "Oops, Try again\n"
     ]
    }
   ],
   "source": [
    "a  = input('Enter a number')\n",
    "if a.isnumeric():\n",
    "    print(\"Yeah, It's a numeric value\")\n",
    "else:\n",
    "    print(\"Oops, Try again\")"
   ]
  },
  {
   "cell_type": "markdown",
   "metadata": {},
   "source": [
    "## Checks the File i.e python or notebook file"
   ]
  },
  {
   "cell_type": "code",
   "execution_count": 14,
   "metadata": {},
   "outputs": [],
   "source": [
    "files = ['apple.py','banana.ipynb','cherry.py','document.ipynb','xml.md','file.jpg','result.txt']"
   ]
  },
  {
   "cell_type": "code",
   "execution_count": 15,
   "metadata": {},
   "outputs": [
    {
     "name": "stdout",
     "output_type": "stream",
     "text": [
      "apple.py is a python file.\n",
      "banana.ipynb is a notebook file.\n",
      "cherry.py is a python file.\n",
      "document.ipynb is a notebook file.\n",
      "xml.md is markdown file\n",
      "file.jpg is not recognised\n",
      "result.txt is not recognised\n"
     ]
    }
   ],
   "source": [
    "for file in files:\n",
    "    if file.endswith('.ipynb'):\n",
    "        print(f'{file} is a notebook file.')\n",
    "    elif file.endswith('.py'):\n",
    "        print(f'{file} is a python file.')\n",
    "    elif file.endswith('.md'):\n",
    "        print(f'{file} is markdown file')\n",
    "    else:\n",
    "        print(f'{file} is not recognised')"
   ]
  },
  {
   "cell_type": "markdown",
   "metadata": {},
   "source": [
    "#### Write a program to join the words in the list"
   ]
  },
  {
   "cell_type": "code",
   "execution_count": 1,
   "metadata": {},
   "outputs": [],
   "source": [
    "wordlist = ['Happy','Sad','Angry','Tired','Lonely','Sleepy']"
   ]
  },
  {
   "cell_type": "code",
   "execution_count": 2,
   "metadata": {},
   "outputs": [
    {
     "data": {
      "text/plain": [
       "['Happy', 'Sad', 'Angry', 'Tired', 'Lonely', 'Sleepy']"
      ]
     },
     "execution_count": 2,
     "metadata": {},
     "output_type": "execute_result"
    }
   ],
   "source": [
    "wordlist"
   ]
  },
  {
   "cell_type": "code",
   "execution_count": 6,
   "metadata": {},
   "outputs": [
    {
     "data": {
      "text/plain": [
       "'Happy Sad Angry Tired Lonely Sleepy'"
      ]
     },
     "execution_count": 6,
     "metadata": {},
     "output_type": "execute_result"
    }
   ],
   "source": [
    "\" \".join(wordlist)"
   ]
  },
  {
   "cell_type": "code",
   "execution_count": 13,
   "metadata": {},
   "outputs": [
    {
     "data": {
      "text/plain": [
       "['Hello!', 'my', 'name', 'is', '______', '.']"
      ]
     },
     "execution_count": 13,
     "metadata": {},
     "output_type": "execute_result"
    }
   ],
   "source": [
    "Text = ['Hello!','my','name','is','______','.']\n",
    "Text"
   ]
  },
  {
   "cell_type": "code",
   "execution_count": 14,
   "metadata": {},
   "outputs": [],
   "source": [
    "txt = ' '.join(Text)"
   ]
  },
  {
   "cell_type": "code",
   "execution_count": 15,
   "metadata": {},
   "outputs": [
    {
     "name": "stdout",
     "output_type": "stream",
     "text": [
      "Hello! my name is ______ .\n"
     ]
    }
   ],
   "source": [
    "print(txt)"
   ]
  },
  {
   "cell_type": "markdown",
   "metadata": {},
   "source": [
    "#### Count all the vowels in the string"
   ]
  },
  {
   "cell_type": "code",
   "execution_count": 16,
   "metadata": {},
   "outputs": [],
   "source": [
    "story = '''Once upon a time, there was a good programmer, who was very good at programming,. One day, he was very tired,\n",
    "and found a bug in his code. He was very angry, and said,\n",
    "\"I can't fix the bug, I'm not a good programmer\".'''"
   ]
  },
  {
   "cell_type": "code",
   "execution_count": 18,
   "metadata": {},
   "outputs": [
    {
     "data": {
      "text/plain": [
       "4"
      ]
     },
     "execution_count": 18,
     "metadata": {},
     "output_type": "execute_result"
    }
   ],
   "source": [
    "story.count('was')"
   ]
  },
  {
   "cell_type": "code",
   "execution_count": 19,
   "metadata": {},
   "outputs": [
    {
     "name": "stdout",
     "output_type": "stream",
     "text": [
      "4\n"
     ]
    }
   ],
   "source": [
    "count_he = story.lower().count('he')\n",
    "print(count_he)"
   ]
  },
  {
   "cell_type": "code",
   "execution_count": 21,
   "metadata": {},
   "outputs": [
    {
     "name": "stdout",
     "output_type": "stream",
     "text": [
      "a: 18\n",
      "e: 15\n",
      "i: 9\n",
      "o: 16\n",
      "u: 4\n"
     ]
    }
   ],
   "source": [
    "print('a:',story.lower().count('a'))\n",
    "print('e:',story.lower().count('e'))\n",
    "print('i:',story.lower().count('i'))\n",
    "print('o:',story.lower().count('o'))\n",
    "print('u:',story.lower().count('u'))\n"
   ]
  },
  {
   "cell_type": "markdown",
   "metadata": {},
   "source": [
    "#### Using Loop"
   ]
  },
  {
   "cell_type": "code",
   "execution_count": 23,
   "metadata": {},
   "outputs": [
    {
     "name": "stdout",
     "output_type": "stream",
     "text": [
      "a : 18\n",
      "e : 15\n",
      "i : 9\n",
      "o : 16\n",
      "u : 4\n"
     ]
    }
   ],
   "source": [
    "for char in 'aeiou':\n",
    "    print(char , ':', story.lower().count(char))"
   ]
  },
  {
   "cell_type": "markdown",
   "metadata": {},
   "source": [
    "#### Count all the alphabets used in the story"
   ]
  },
  {
   "cell_type": "code",
   "execution_count": 25,
   "metadata": {},
   "outputs": [
    {
     "name": "stdout",
     "output_type": "stream",
     "text": [
      "a : 18\n",
      "b : 2\n",
      "c : 3\n",
      "d : 10\n",
      "e : 15\n",
      "f : 2\n",
      "g : 10\n",
      "h : 6\n",
      "i : 9\n",
      "j : 0\n",
      "k : 0\n",
      "l : 0\n",
      "m : 8\n",
      "n : 11\n",
      "o : 16\n",
      "p : 4\n",
      "q : 0\n",
      "r : 14\n",
      "s : 6\n",
      "t : 7\n",
      "u : 4\n",
      "v : 3\n",
      "w : 5\n",
      "x : 1\n",
      "y : 5\n",
      "z : 0\n"
     ]
    }
   ],
   "source": [
    "# Import the string -- ascii_lowercase\n",
    "from string import ascii_lowercase\n",
    "for char in ascii_lowercase:\n",
    "    print(char,':',story.lower().count(char))"
   ]
  },
  {
   "cell_type": "markdown",
   "metadata": {},
   "source": [
    "## Search all the string using find and Index"
   ]
  },
  {
   "cell_type": "code",
   "execution_count": 27,
   "metadata": {},
   "outputs": [
    {
     "data": {
      "text/plain": [
       "35"
      ]
     },
     "execution_count": 27,
     "metadata": {},
     "output_type": "execute_result"
    }
   ],
   "source": [
    "story.index('programmer')"
   ]
  },
  {
   "cell_type": "code",
   "execution_count": 28,
   "metadata": {},
   "outputs": [
    {
     "data": {
      "text/plain": [
       "205"
      ]
     },
     "execution_count": 28,
     "metadata": {},
     "output_type": "execute_result"
    }
   ],
   "source": [
    "story.index('programmer',41)"
   ]
  },
  {
   "cell_type": "code",
   "execution_count": 29,
   "metadata": {},
   "outputs": [
    {
     "data": {
      "text/plain": [
       "35"
      ]
     },
     "execution_count": 29,
     "metadata": {},
     "output_type": "execute_result"
    }
   ],
   "source": [
    "story.find('programmer')"
   ]
  },
  {
   "cell_type": "code",
   "execution_count": 30,
   "metadata": {},
   "outputs": [
    {
     "data": {
      "text/plain": [
       "-1"
      ]
     },
     "execution_count": 30,
     "metadata": {},
     "output_type": "execute_result"
    }
   ],
   "source": [
    "story.find('programmer',2111)"
   ]
  },
  {
   "cell_type": "code",
   "execution_count": 31,
   "metadata": {},
   "outputs": [
    {
     "data": {
      "text/plain": [
       "185"
      ]
     },
     "execution_count": 31,
     "metadata": {},
     "output_type": "execute_result"
    }
   ],
   "source": [
    "story.rfind('bug')"
   ]
  },
  {
   "cell_type": "markdown",
   "metadata": {},
   "source": [
    "#### Search and display all indexes of a searched word "
   ]
  },
  {
   "cell_type": "code",
   "execution_count": 37,
   "metadata": {},
   "outputs": [
    {
     "name": "stdout",
     "output_type": "stream",
     "text": [
      "i found at 13\n",
      "i found at 76\n",
      "i found at 104\n",
      "i found at 126\n",
      "i found at 130\n",
      "i found at 164\n",
      "i found at 169\n",
      "i found at 178\n",
      "i found at 190\n"
     ]
    }
   ],
   "source": [
    "start = 0\n",
    "search = 'i'\n",
    "while True:\n",
    "    idx = story.lower().find(search,start)\n",
    "    if idx == -1:\n",
    "        break\n",
    "    print(f'{search} found at {idx}')\n",
    "    start = idx + 1"
   ]
  },
  {
   "cell_type": "markdown",
   "metadata": {},
   "source": [
    "#### String Replace"
   ]
  },
  {
   "cell_type": "code",
   "execution_count": 38,
   "metadata": {},
   "outputs": [
    {
     "name": "stdout",
     "output_type": "stream",
     "text": [
      "Once upon a time, there was a good Engineer, who was very good at programming,. One day, he was very tired,\n",
      "and found a bug in his code. He was very angry, and said,\n",
      "\"I can't fix the bug, I'm not a good Engineer\".\n"
     ]
    }
   ],
   "source": [
    "print(story.replace('programmer','Engineer'))"
   ]
  },
  {
   "cell_type": "code",
   "execution_count": 39,
   "metadata": {},
   "outputs": [
    {
     "name": "stdout",
     "output_type": "stream",
     "text": [
      "Once upon a time, there was a good Engineer, who was very good at programming,. One day, he was very tired,\n",
      "and found a bug in his code. He was very angry, and said,\n",
      "\"I can't fix the bug, I'm not a good programmer\".\n"
     ]
    }
   ],
   "source": [
    "print(story.replace('programmer','Engineer',1))"
   ]
  },
  {
   "cell_type": "markdown",
   "metadata": {},
   "source": [
    "#### Remove all the vowels "
   ]
  },
  {
   "cell_type": "code",
   "execution_count": 49,
   "metadata": {},
   "outputs": [
    {
     "name": "stdout",
     "output_type": "stream",
     "text": [
      "Once upon  time, there ws  good progrmmer, who ws very good t progrmming,. One dy, he ws very tired,\n",
      "nd found  bug in his code. He ws very ngry, nd sid,\n",
      "\"I cn't fix the bug, I'm not  good progrmmer\".\n",
      "Onc upon a tim, thr was a good programmr, who was vry good at programming,. On day, h was vry tird,\n",
      "and found a bug in his cod. H was vry angry, and said,\n",
      "\"I can't fix th bug, I'm not a good programmr\".\n",
      "Once upon a tme, there was a good programmer, who was very good at programmng,. One day, he was very tred,\n",
      "and found a bug n hs code. He was very angry, and sad,\n",
      "\"I can't fx the bug, I'm not a good programmer\".\n",
      "Once upn a time, there was a gd prgrammer, wh was very gd at prgramming,. One day, he was very tired,\n",
      "and fund a bug in his cde. He was very angry, and said,\n",
      "\"I can't fix the bug, I'm nt a gd prgrammer\".\n",
      "Once pon a time, there was a good programmer, who was very good at programming,. One day, he was very tired,\n",
      "and fond a bg in his code. He was very angry, and said,\n",
      "\"I can't fix the bg, I'm not a good programmer\".\n"
     ]
    }
   ],
   "source": [
    "print(story.replace('a',''))\n",
    "print(story.replace('e',''))\n",
    "print(story.replace('i',''))\n",
    "print(story.replace('o',''))\n",
    "print(story.replace('u',''))\n"
   ]
  },
  {
   "cell_type": "code",
   "execution_count": 54,
   "metadata": {},
   "outputs": [],
   "source": [
    "for vowel in 'aeiou':\n",
    "    story = story.replace(vowel,'_')"
   ]
  },
  {
   "cell_type": "code",
   "execution_count": 56,
   "metadata": {},
   "outputs": [
    {
     "name": "stdout",
     "output_type": "stream",
     "text": [
      "Onc pn  tm, thr ws  gd prgrmmr, wh ws vry gd t prgrmmng,. On dy, h ws vry trd,\n",
      "nd fnd  bg n hs cd. H ws vry ngry, nd sd,\n",
      "\"I cn't fx th bg, I'm nt  gd prgrmmr\".\n"
     ]
    }
   ],
   "source": [
    "print(story)"
   ]
  },
  {
   "cell_type": "code",
   "execution_count": 1,
   "metadata": {},
   "outputs": [
    {
     "name": "stdout",
     "output_type": "stream",
     "text": [
      "100\n"
     ]
    }
   ],
   "source": [
    "x = 0\n",
    "while(x<100):\n",
    "    x+=2\n",
    "print(x)"
   ]
  },
  {
   "cell_type": "code",
   "execution_count": 18,
   "metadata": {},
   "outputs": [
    {
     "name": "stdout",
     "output_type": "stream",
     "text": [
      "True\n"
     ]
    }
   ],
   "source": [
    "print(1000>300)"
   ]
  },
  {
   "cell_type": "markdown",
   "metadata": {},
   "source": [
    "### Program to print prime numbers from 2 to 1000"
   ]
  },
  {
   "cell_type": "code",
   "execution_count": 1,
   "metadata": {},
   "outputs": [
    {
     "name": "stdout",
     "output_type": "stream",
     "text": [
      "[2, 3, 5, 7, 11, 13, 17, 19, 23, 29, 31, 37, 41, 43, 47, 53, 59, 61, 67, 71, 73, 79, 83, 89, 97, 101, 103, 107, 109, 113, 127, 131, 137, 139, 149, 151, 157, 163, 167, 173, 179, 181, 191, 193, 197, 199, 211, 223, 227, 229, 233, 239, 241, 251, 257, 263, 269, 271, 277, 281, 283, 293, 307, 311, 313, 317, 331, 337, 347, 349, 353, 359, 367, 373, 379, 383, 389, 397, 401, 409, 419, 421, 431, 433, 439, 443, 449, 457, 461, 463, 467, 479, 487, 491, 499, 503, 509, 521, 523, 541, 547, 557, 563, 569, 571, 577, 587, 593, 599, 601, 607, 613, 617, 619, 631, 641, 643, 647, 653, 659, 661, 673, 677, 683, 691, 701, 709, 719, 727, 733, 739, 743, 751, 757, 761, 769, 773, 787, 797, 809, 811, 821, 823, 827, 829, 839, 853, 857, 859, 863, 877, 881, 883, 887, 907, 911, 919, 929, 937, 941, 947, 953, 967, 971, 977, 983, 991, 997]\n"
     ]
    }
   ],
   "source": [
    "primes = []\n",
    "for num in range(2,1000):\n",
    "    for i in range(2,num):\n",
    "        if num % i == 0:\n",
    "            break\n",
    "    else:\n",
    "        primes.append(num)\n",
    "print(primes)"
   ]
  },
  {
   "cell_type": "code",
   "execution_count": null,
   "metadata": {},
   "outputs": [],
   "source": []
  }
 ],
 "metadata": {
  "kernelspec": {
   "display_name": "Python 3.9.12 ('base')",
   "language": "python",
   "name": "python3"
  },
  "language_info": {
   "codemirror_mode": {
    "name": "ipython",
    "version": 3
   },
   "file_extension": ".py",
   "mimetype": "text/x-python",
   "name": "python",
   "nbconvert_exporter": "python",
   "pygments_lexer": "ipython3",
   "version": "3.9.12"
  },
  "orig_nbformat": 4,
  "vscode": {
   "interpreter": {
    "hash": "aa9439d03a0b432bdf3a2d4d3a01fff2171e3a638e45b73abd0705c8465a4158"
   }
  }
 },
 "nbformat": 4,
 "nbformat_minor": 2
}
