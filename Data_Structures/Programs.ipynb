{
 "cells": [
  {
   "cell_type": "markdown",
   "metadata": {},
   "source": [
    "## Program using  ljust()"
   ]
  },
  {
   "cell_type": "code",
   "execution_count": 4,
   "metadata": {},
   "outputs": [
    {
     "name": "stdout",
     "output_type": "stream",
     "text": [
      "Ajay---------------- 4\n",
      "Satyam-------------- 6\n",
      "Jai----------------- 3\n",
      "Ram----------------- 3\n"
     ]
    }
   ],
   "source": [
    "word = ['Ajay', 'Satyam', 'Jai', 'Ram']\n",
    "for words in word:\n",
    "    print(words.ljust(20,'-'), len(words))"
   ]
  },
  {
   "cell_type": "markdown",
   "metadata": {},
   "source": [
    "## Program using  rjust()"
   ]
  },
  {
   "cell_type": "code",
   "execution_count": 6,
   "metadata": {},
   "outputs": [
    {
     "name": "stdout",
     "output_type": "stream",
     "text": [
      "                Ajay 4\n",
      "              Satyam 6\n",
      "                 Jai 3\n",
      "                 Ram 3\n"
     ]
    }
   ],
   "source": [
    "word = ['Ajay', 'Satyam', 'Jai', 'Ram']\n",
    "for words in word:\n",
    "    print(words.rjust(20), len(words))"
   ]
  },
  {
   "cell_type": "markdown",
   "metadata": {},
   "source": [
    "## Program using  center()"
   ]
  },
  {
   "cell_type": "code",
   "execution_count": 7,
   "metadata": {},
   "outputs": [
    {
     "name": "stdout",
     "output_type": "stream",
     "text": [
      "        Ajay         4\n",
      "       Satyam        6\n",
      "        Jai          3\n",
      "        Ram          3\n"
     ]
    }
   ],
   "source": [
    "word = ['Ajay', 'Satyam', 'Jai', 'Ram']\n",
    "for words in word:\n",
    "    print(words.center(20), len(words))"
   ]
  },
  {
   "cell_type": "markdown",
   "metadata": {},
   "source": [
    "## Validate the string is numeric or not"
   ]
  },
  {
   "cell_type": "code",
   "execution_count": 12,
   "metadata": {},
   "outputs": [
    {
     "name": "stdout",
     "output_type": "stream",
     "text": [
      "Yeah, it is a numeric value\n"
     ]
    }
   ],
   "source": [
    "a  = input('Enter a number')\n",
    "if a.isnumeric():\n",
    "    print(\"Yeah, it is a numeric value\")\n",
    "else:\n",
    "    print(\"Oops, Try again\")"
   ]
  },
  {
   "cell_type": "code",
   "execution_count": 9,
   "metadata": {},
   "outputs": [
    {
     "name": "stdout",
     "output_type": "stream",
     "text": [
      "Oops, Try again\n"
     ]
    }
   ],
   "source": [
    "a  = input('Enter a number')\n",
    "if a.isnumeric():\n",
    "    print(\"Yeah, It's a numeric value\")\n",
    "else:\n",
    "    print(\"Oops, Try again\")"
   ]
  },
  {
   "cell_type": "markdown",
   "metadata": {},
   "source": [
    "## Checks the File i.e python or notebook file"
   ]
  },
  {
   "cell_type": "code",
   "execution_count": 14,
   "metadata": {},
   "outputs": [],
   "source": [
    "files = ['apple.py','banana.ipynb','cherry.py','document.ipynb','xml.md','file.jpg','result.txt']"
   ]
  },
  {
   "cell_type": "code",
   "execution_count": 15,
   "metadata": {},
   "outputs": [
    {
     "name": "stdout",
     "output_type": "stream",
     "text": [
      "apple.py is a python file.\n",
      "banana.ipynb is a notebook file.\n",
      "cherry.py is a python file.\n",
      "document.ipynb is a notebook file.\n",
      "xml.md is markdown file\n",
      "file.jpg is not recognised\n",
      "result.txt is not recognised\n"
     ]
    }
   ],
   "source": [
    "for file in files:\n",
    "    if file.endswith('.ipynb'):\n",
    "        print(f'{file} is a notebook file.')\n",
    "    elif file.endswith('.py'):\n",
    "        print(f'{file} is a python file.')\n",
    "    elif file.endswith('.md'):\n",
    "        print(f'{file} is markdown file')\n",
    "    else:\n",
    "        print(f'{file} is not recognised')"
   ]
  },
  {
   "cell_type": "code",
   "execution_count": null,
   "metadata": {},
   "outputs": [],
   "source": []
  }
 ],
 "metadata": {
  "kernelspec": {
   "display_name": "Python 3.9.12 ('base')",
   "language": "python",
   "name": "python3"
  },
  "language_info": {
   "codemirror_mode": {
    "name": "ipython",
    "version": 3
   },
   "file_extension": ".py",
   "mimetype": "text/x-python",
   "name": "python",
   "nbconvert_exporter": "python",
   "pygments_lexer": "ipython3",
   "version": "3.9.12"
  },
  "orig_nbformat": 4,
  "vscode": {
   "interpreter": {
    "hash": "aa9439d03a0b432bdf3a2d4d3a01fff2171e3a638e45b73abd0705c8465a4158"
   }
  }
 },
 "nbformat": 4,
 "nbformat_minor": 2
}
