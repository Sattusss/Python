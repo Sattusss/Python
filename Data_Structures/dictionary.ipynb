{
 "cells": [
  {
   "cell_type": "code",
   "execution_count": 11,
   "metadata": {},
   "outputs": [
    {
     "data": {
      "text/plain": [
       "['Alen', 30, 'Brian', 50, 'charles', 60, 'David', 70, 'Eric', 80, 'Frank,90']"
      ]
     },
     "execution_count": 11,
     "metadata": {},
     "output_type": "execute_result"
    }
   ],
   "source": [
    "marks_list = ['Alen',30,'Brian',50,'charles',60,'David',70,'Eric',80,'Frank,90']\n",
    "marks_list"
   ]
  },
  {
   "cell_type": "code",
   "execution_count": 12,
   "metadata": {},
   "outputs": [],
   "source": [
    "marks_list_v2 = [['Alen',30],['Brian',50],['charles',60],['David',70],['Eric',80],['Frank,90']]\n",
    "marks_list_v3 = ['Alen',30,50,60,70,80,90],['Brian',23,12,56]\n"
   ]
  },
  {
   "cell_type": "markdown",
   "metadata": {},
   "source": [
    "List are inefficient for searching and storing meaning full data\n",
    "## Dictionary is a collection of key value pairs"
   ]
  },
  {
   "cell_type": "code",
   "execution_count": 13,
   "metadata": {},
   "outputs": [
    {
     "name": "stdout",
     "output_type": "stream",
     "text": [
      "{'Brian': 50, 'charles': 60, 'David': 70, 'Eric': 80, 'Frank': 90}\n"
     ]
    }
   ],
   "source": [
    "marks_dict = {'Brian': 50,'charles': 60,'David': 70,'Eric' : 80, 'Frank' : 90}\n",
    "print(marks_dict)"
   ]
  },
  {
   "cell_type": "code",
   "execution_count": 14,
   "metadata": {},
   "outputs": [
    {
     "name": "stdout",
     "output_type": "stream",
     "text": [
      "Charles got 60\n",
      "We are adding grace marks for Alen\n",
      "New marks for David is  70\n"
     ]
    }
   ],
   "source": [
    "print(\"Charles got\",marks_dict['charles'])\n",
    "print(\"We are adding grace marks for Alen\")\n",
    "marks_dict['Alen']=45\n",
    "print('New marks for David is ', marks_dict['David'])"
   ]
  },
  {
   "cell_type": "code",
   "execution_count": 15,
   "metadata": {},
   "outputs": [],
   "source": [
    "marks_dict_v2 = {\n",
    "    'Student1' : {\n",
    "        'name' : 'Alan',\n",
    "        'CGPA' : 8.3\n",
    "    },\n",
    "    'Student2' : {\n",
    "    'Name' : 'Brian',\n",
    "    'CGPA' : 7.5\n",
    "    },\n",
    "    'Student' : {\n",
    "        'Name' : 'Charles',\n",
    "        'CGPA' :  9.0\n",
    "    }\n",
    "\n",
    "}"
   ]
  },
  {
   "cell_type": "code",
   "execution_count": 16,
   "metadata": {},
   "outputs": [
    {
     "name": "stdout",
     "output_type": "stream",
     "text": [
      "{'Student1': {'name': 'Alan', 'CGPA': 8.3}, 'Student2': {'Name': 'Brian', 'CGPA': 7.5}, 'Student': {'Name': 'Charles', 'CGPA': 9.0}}\n"
     ]
    }
   ],
   "source": [
    "print(marks_dict_v2)"
   ]
  },
  {
   "cell_type": "code",
   "execution_count": 17,
   "metadata": {},
   "outputs": [
    {
     "name": "stdout",
     "output_type": "stream",
     "text": [
      "{'name': 'Alan', 'CGPA': 8.3}\n"
     ]
    }
   ],
   "source": [
    "print(marks_dict_v2['Student1'])"
   ]
  },
  {
   "cell_type": "code",
   "execution_count": 18,
   "metadata": {},
   "outputs": [
    {
     "name": "stdout",
     "output_type": "stream",
     "text": [
      "8.3\n"
     ]
    }
   ],
   "source": [
    "print(marks_dict_v2['Student1']['CGPA'])"
   ]
  },
  {
   "cell_type": "code",
   "execution_count": 19,
   "metadata": {},
   "outputs": [
    {
     "name": "stdout",
     "output_type": "stream",
     "text": [
      "{'name': 'Alan', 'CGPA': 8.3}\n"
     ]
    }
   ],
   "source": [
    "print(marks_dict_v2.get('Student1'))"
   ]
  },
  {
   "cell_type": "markdown",
   "metadata": {},
   "source": [
    "**Functions**"
   ]
  },
  {
   "cell_type": "code",
   "execution_count": 20,
   "metadata": {},
   "outputs": [
    {
     "data": {
      "text/plain": [
       "{'Brian': 50, 'charles': 60, 'David': 70, 'Eric': 80, 'Frank': 90, 'Alen': 45}"
      ]
     },
     "execution_count": 20,
     "metadata": {},
     "output_type": "execute_result"
    }
   ],
   "source": [
    "marks_dict"
   ]
  },
  {
   "cell_type": "code",
   "execution_count": 21,
   "metadata": {},
   "outputs": [
    {
     "name": "stdout",
     "output_type": "stream",
     "text": [
      "dict_keys(['Brian', 'charles', 'David', 'Eric', 'Frank', 'Alen'])\n"
     ]
    }
   ],
   "source": [
    "#to get the get the key\n",
    "print(marks_dict.keys())"
   ]
  },
  {
   "cell_type": "code",
   "execution_count": 22,
   "metadata": {},
   "outputs": [
    {
     "name": "stdout",
     "output_type": "stream",
     "text": [
      "dict_values([50, 60, 70, 80, 90, 45])\n"
     ]
    }
   ],
   "source": [
    "#to get the values\n",
    "print(marks_dict.values())"
   ]
  },
  {
   "cell_type": "code",
   "execution_count": 23,
   "metadata": {},
   "outputs": [
    {
     "name": "stdout",
     "output_type": "stream",
     "text": [
      "dict_items([('Brian', 50), ('charles', 60), ('David', 70), ('Eric', 80), ('Frank', 90), ('Alen', 45)])\n"
     ]
    }
   ],
   "source": [
    "#to get the items\n",
    "print(marks_dict.items())"
   ]
  },
  {
   "cell_type": "code",
   "execution_count": 24,
   "metadata": {},
   "outputs": [],
   "source": [
    "# We don't  have any method to add item to dictionary, instead we use this\n",
    "marks_dict['Eliza'] = 50"
   ]
  },
  {
   "cell_type": "code",
   "execution_count": 26,
   "metadata": {},
   "outputs": [
    {
     "data": {
      "text/plain": [
       "{'Brian': 50,\n",
       " 'charles': 60,\n",
       " 'David': 70,\n",
       " 'Eric': 80,\n",
       " 'Frank': 90,\n",
       " 'Alen': 45,\n",
       " 'Eliza': 50,\n",
       " 'Grace': 39,\n",
       " 'Erica': 99,\n",
       " 'Alex': 100}"
      ]
     },
     "execution_count": 26,
     "metadata": {},
     "output_type": "execute_result"
    }
   ],
   "source": [
    "marks_dict.update({'Grace':39,'Erica':99,'Alex':100})\n",
    "marks_dict"
   ]
  },
  {
   "cell_type": "code",
   "execution_count": 31,
   "metadata": {},
   "outputs": [
    {
     "name": "stdout",
     "output_type": "stream",
     "text": [
      "{'Brian': 50, 'David': 70, 'Eric': 80, 'Frank': 90, 'Eliza': 50, 'Grace': 39, 'Erica': 99, 'Alex': 100}\n",
      "60\n"
     ]
    }
   ],
   "source": [
    "# to remove the data \n",
    "remove = marks_dict.pop('charles')\n",
    "print(marks_dict)\n",
    "print(remove)"
   ]
  },
  {
   "cell_type": "code",
   "execution_count": 33,
   "metadata": {},
   "outputs": [
    {
     "name": "stdout",
     "output_type": "stream",
     "text": [
      "{'Brian': 50, 'David': 70, 'Eric': 80, 'Frank': 90, 'Eliza': 50, 'Grace': 39, 'Erica': 99, 'Alex': 100}\n"
     ]
    }
   ],
   "source": [
    "print(marks_dict)"
   ]
  },
  {
   "cell_type": "code",
   "execution_count": 34,
   "metadata": {},
   "outputs": [],
   "source": [
    "# no error, it will return none\n",
    "marks_dict.get('Alen')"
   ]
  },
  {
   "cell_type": "code",
   "execution_count": 35,
   "metadata": {},
   "outputs": [
    {
     "name": "stdout",
     "output_type": "stream",
     "text": [
      "100\n"
     ]
    }
   ],
   "source": [
    "# default message usinng get\n",
    "dict = marks_dict.get('Alex','n/a')\n",
    "print(dict)"
   ]
  },
  {
   "cell_type": "code",
   "execution_count": null,
   "metadata": {},
   "outputs": [],
   "source": []
  }
 ],
 "metadata": {
  "kernelspec": {
   "display_name": "Python 3.9.12 ('base')",
   "language": "python",
   "name": "python3"
  },
  "language_info": {
   "codemirror_mode": {
    "name": "ipython",
    "version": 3
   },
   "file_extension": ".py",
   "mimetype": "text/x-python",
   "name": "python",
   "nbconvert_exporter": "python",
   "pygments_lexer": "ipython3",
   "version": "3.9.12"
  },
  "orig_nbformat": 4,
  "vscode": {
   "interpreter": {
    "hash": "aa9439d03a0b432bdf3a2d4d3a01fff2171e3a638e45b73abd0705c8465a4158"
   }
  }
 },
 "nbformat": 4,
 "nbformat_minor": 2
}
